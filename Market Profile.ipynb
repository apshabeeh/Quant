{
 "cells": [
  {
   "cell_type": "code",
   "execution_count": 2,
   "id": "df62e49f",
   "metadata": {},
   "outputs": [
    {
     "name": "stdout",
     "output_type": "stream",
     "text": [
      "Requirement already satisfied: market-profile in c:\\users\\shabeeh ap\\anaconda3\\lib\\site-packages (0.1.1)\n",
      "Requirement already satisfied: pandas>=0.20.3 in c:\\users\\shabeeh ap\\anaconda3\\lib\\site-packages (from market-profile) (1.2.4)\n",
      "Requirement already satisfied: numpy>=1.13.0 in c:\\users\\shabeeh ap\\anaconda3\\lib\\site-packages (from market-profile) (1.20.1)\n",
      "Requirement already satisfied: python-dateutil>=2.7.3 in c:\\users\\shabeeh ap\\anaconda3\\lib\\site-packages (from pandas>=0.20.3->market-profile) (2.8.1)\n",
      "Requirement already satisfied: pytz>=2017.3 in c:\\users\\shabeeh ap\\anaconda3\\lib\\site-packages (from pandas>=0.20.3->market-profile) (2021.1)\n",
      "Requirement already satisfied: six>=1.5 in c:\\users\\shabeeh ap\\anaconda3\\lib\\site-packages (from python-dateutil>=2.7.3->pandas>=0.20.3->market-profile) (1.15.0)\n",
      "Collecting ccxt\n",
      "  Downloading ccxt-1.52.41-py2.py3-none-any.whl (2.0 MB)\n",
      "Requirement already satisfied: cryptography>=2.6.1 in c:\\users\\shabeeh ap\\anaconda3\\lib\\site-packages (from ccxt) (3.4.7)\n",
      "Collecting aiodns<2.1,>=1.1.1\n",
      "  Downloading aiodns-2.0.0-py2.py3-none-any.whl (4.8 kB)\n",
      "Collecting aiohttp<3.8,>=3.7.4\n",
      "  Downloading aiohttp-3.7.4.post0-cp38-cp38-win_amd64.whl (635 kB)\n",
      "Collecting yarl==1.6.3\n",
      "  Downloading yarl-1.6.3-cp38-cp38-win_amd64.whl (125 kB)\n",
      "Requirement already satisfied: requests>=2.18.4 in c:\\users\\shabeeh ap\\anaconda3\\lib\\site-packages (from ccxt) (2.25.1)\n",
      "Requirement already satisfied: certifi>=2018.1.18 in c:\\users\\shabeeh ap\\anaconda3\\lib\\site-packages (from ccxt) (2020.12.5)\n",
      "Requirement already satisfied: setuptools>=38.5.1 in c:\\users\\shabeeh ap\\anaconda3\\lib\\site-packages (from ccxt) (52.0.0.post20210125)\n",
      "Collecting multidict>=4.0\n",
      "  Downloading multidict-5.1.0-cp38-cp38-win_amd64.whl (48 kB)\n",
      "Requirement already satisfied: idna>=2.0 in c:\\users\\shabeeh ap\\anaconda3\\lib\\site-packages (from yarl==1.6.3->ccxt) (2.10)\n",
      "Collecting pycares>=3.0.0\n",
      "  Downloading pycares-4.0.0-cp38-cp38-win_amd64.whl (82 kB)\n",
      "Requirement already satisfied: typing-extensions>=3.6.5 in c:\\users\\shabeeh ap\\anaconda3\\lib\\site-packages (from aiohttp<3.8,>=3.7.4->ccxt) (3.7.4.3)\n",
      "Requirement already satisfied: attrs>=17.3.0 in c:\\users\\shabeeh ap\\anaconda3\\lib\\site-packages (from aiohttp<3.8,>=3.7.4->ccxt) (20.3.0)\n",
      "Requirement already satisfied: chardet<5.0,>=2.0 in c:\\users\\shabeeh ap\\anaconda3\\lib\\site-packages (from aiohttp<3.8,>=3.7.4->ccxt) (4.0.0)\n",
      "Collecting async-timeout<4.0,>=3.0\n",
      "  Downloading async_timeout-3.0.1-py3-none-any.whl (8.2 kB)\n",
      "Requirement already satisfied: cffi>=1.12 in c:\\users\\shabeeh ap\\anaconda3\\lib\\site-packages (from cryptography>=2.6.1->ccxt) (1.14.5)\n",
      "Requirement already satisfied: pycparser in c:\\users\\shabeeh ap\\anaconda3\\lib\\site-packages (from cffi>=1.12->cryptography>=2.6.1->ccxt) (2.20)\n",
      "Requirement already satisfied: urllib3<1.27,>=1.21.1 in c:\\users\\shabeeh ap\\anaconda3\\lib\\site-packages (from requests>=2.18.4->ccxt) (1.26.4)\n",
      "Installing collected packages: multidict, yarl, pycares, async-timeout, aiohttp, aiodns, ccxt\n",
      "Successfully installed aiodns-2.0.0 aiohttp-3.7.4.post0 async-timeout-3.0.1 ccxt-1.52.41 multidict-5.1.0 pycares-4.0.0 yarl-1.6.3\n"
     ]
    }
   ],
   "source": [
    "!pip install market-profile\n",
    "!pip install ccxt"
   ]
  },
  {
   "cell_type": "code",
   "execution_count": 13,
   "id": "cb11a48e",
   "metadata": {},
   "outputs": [
    {
     "name": "stdout",
     "output_type": "stream",
     "text": [
      "[*********************100%***********************]  1 of 1 completed\n"
     ]
    },
    {
     "ename": "AttributeError",
     "evalue": "'DataFrame' object has no attribute 'reverse'",
     "output_type": "error",
     "traceback": [
      "\u001b[1;31m---------------------------------------------------------------------------\u001b[0m",
      "\u001b[1;31mAttributeError\u001b[0m                            Traceback (most recent call last)",
      "\u001b[1;32m<ipython-input-13-c237727b3504>\u001b[0m in \u001b[0;36m<module>\u001b[1;34m\u001b[0m\n\u001b[0;32m     24\u001b[0m \u001b[0mmktPfl\u001b[0m \u001b[1;33m=\u001b[0m \u001b[0mMarketProfile\u001b[0m\u001b[1;33m.\u001b[0m\u001b[0minit_market_profile_list\u001b[0m\u001b[1;33m(\u001b[0m\u001b[0mohlcv_list\u001b[0m\u001b[1;33m=\u001b[0m\u001b[0mohlcv\u001b[0m\u001b[1;33m,\u001b[0m \u001b[0mduration\u001b[0m\u001b[1;33m=\u001b[0m\u001b[0mperiod\u001b[0m\u001b[1;33m)\u001b[0m\u001b[1;33m\u001b[0m\u001b[1;33m\u001b[0m\u001b[0m\n\u001b[0;32m     25\u001b[0m \u001b[0mmktPfl\u001b[0m\u001b[1;33m.\u001b[0m\u001b[0mconvert_to_list\u001b[0m\u001b[1;33m(\u001b[0m\u001b[1;33m)\u001b[0m\u001b[1;33m\u001b[0m\u001b[1;33m\u001b[0m\u001b[0m\n\u001b[1;32m---> 26\u001b[1;33m \u001b[0mmktPfl\u001b[0m\u001b[1;33m.\u001b[0m\u001b[0mprepare_ohlcv\u001b[0m\u001b[1;33m(\u001b[0m\u001b[1;33m)\u001b[0m\u001b[1;33m\u001b[0m\u001b[1;33m\u001b[0m\u001b[0m\n\u001b[0m\u001b[0;32m     27\u001b[0m \u001b[1;33m\u001b[0m\u001b[0m\n\u001b[0;32m     28\u001b[0m \u001b[1;31m# Build the profile\u001b[0m\u001b[1;33m\u001b[0m\u001b[1;33m\u001b[0m\u001b[1;33m\u001b[0m\u001b[0m\n",
      "\u001b[1;32m~\\anaconda3\\lib\\site-packages\\mktProfile\\__init__.py\u001b[0m in \u001b[0;36mprepare_ohlcv\u001b[1;34m(self)\u001b[0m\n\u001b[0;32m     70\u001b[0m         \u001b[1;33m:\u001b[0m\u001b[1;32mreturn\u001b[0m\u001b[1;33m:\u001b[0m\u001b[1;33m\u001b[0m\u001b[1;33m\u001b[0m\u001b[0m\n\u001b[0;32m     71\u001b[0m         \"\"\"\n\u001b[1;32m---> 72\u001b[1;33m         \u001b[0mself\u001b[0m\u001b[1;33m.\u001b[0m\u001b[0mohlcv_list\u001b[0m \u001b[1;33m=\u001b[0m \u001b[0mlist\u001b[0m\u001b[1;33m(\u001b[0m\u001b[0mself\u001b[0m\u001b[1;33m.\u001b[0m\u001b[0mprepare\u001b[0m\u001b[1;33m(\u001b[0m\u001b[0mself\u001b[0m\u001b[1;33m.\u001b[0m\u001b[0mohlcv_list\u001b[0m\u001b[1;33m,\u001b[0m \u001b[0mself\u001b[0m\u001b[1;33m.\u001b[0m\u001b[0mduration\u001b[0m\u001b[1;33m)\u001b[0m\u001b[1;33m)\u001b[0m\u001b[1;33m\u001b[0m\u001b[1;33m\u001b[0m\u001b[0m\n\u001b[0m\u001b[0;32m     73\u001b[0m \u001b[1;33m\u001b[0m\u001b[0m\n\u001b[0;32m     74\u001b[0m     \u001b[1;32mdef\u001b[0m \u001b[0mcreate_profile\u001b[0m\u001b[1;33m(\u001b[0m\u001b[0mself\u001b[0m\u001b[1;33m,\u001b[0m \u001b[0mones\u001b[0m\u001b[1;33m=\u001b[0m\u001b[1;32mFalse\u001b[0m\u001b[1;33m)\u001b[0m\u001b[1;33m:\u001b[0m\u001b[1;33m\u001b[0m\u001b[1;33m\u001b[0m\u001b[0m\n",
      "\u001b[1;32m~\\anaconda3\\lib\\site-packages\\mktProfile\\__init__.py\u001b[0m in \u001b[0;36mprepare\u001b[1;34m(self, ohlcv, duration)\u001b[0m\n\u001b[0;32m     56\u001b[0m \u001b[1;33m\u001b[0m\u001b[0m\n\u001b[0;32m     57\u001b[0m     \u001b[1;32mdef\u001b[0m \u001b[0mprepare\u001b[0m\u001b[1;33m(\u001b[0m\u001b[0mself\u001b[0m\u001b[1;33m,\u001b[0m \u001b[0mohlcv\u001b[0m\u001b[1;33m:\u001b[0m \u001b[0mlist\u001b[0m\u001b[1;33m,\u001b[0m \u001b[0mduration\u001b[0m\u001b[1;33m:\u001b[0m \u001b[0mint\u001b[0m\u001b[1;33m)\u001b[0m\u001b[1;33m:\u001b[0m\u001b[1;33m\u001b[0m\u001b[1;33m\u001b[0m\u001b[0m\n\u001b[1;32m---> 58\u001b[1;33m         \u001b[0mohlcv\u001b[0m\u001b[1;33m.\u001b[0m\u001b[0mreverse\u001b[0m\u001b[1;33m(\u001b[0m\u001b[1;33m)\u001b[0m\u001b[1;33m\u001b[0m\u001b[1;33m\u001b[0m\u001b[0m\n\u001b[0m\u001b[0;32m     59\u001b[0m         \u001b[0mlimit\u001b[0m \u001b[1;33m=\u001b[0m \u001b[0mohlcv\u001b[0m\u001b[1;33m[\u001b[0m\u001b[1;36m0\u001b[0m\u001b[1;33m]\u001b[0m\u001b[1;33m[\u001b[0m\u001b[1;36m0\u001b[0m\u001b[1;33m]\u001b[0m \u001b[1;33m-\u001b[0m \u001b[0mduration\u001b[0m\u001b[1;33m\u001b[0m\u001b[1;33m\u001b[0m\u001b[0m\n\u001b[0;32m     60\u001b[0m \u001b[1;33m\u001b[0m\u001b[0m\n",
      "\u001b[1;32m~\\anaconda3\\lib\\site-packages\\pandas\\core\\generic.py\u001b[0m in \u001b[0;36m__getattr__\u001b[1;34m(self, name)\u001b[0m\n\u001b[0;32m   5463\u001b[0m             \u001b[1;32mif\u001b[0m \u001b[0mself\u001b[0m\u001b[1;33m.\u001b[0m\u001b[0m_info_axis\u001b[0m\u001b[1;33m.\u001b[0m\u001b[0m_can_hold_identifiers_and_holds_name\u001b[0m\u001b[1;33m(\u001b[0m\u001b[0mname\u001b[0m\u001b[1;33m)\u001b[0m\u001b[1;33m:\u001b[0m\u001b[1;33m\u001b[0m\u001b[1;33m\u001b[0m\u001b[0m\n\u001b[0;32m   5464\u001b[0m                 \u001b[1;32mreturn\u001b[0m \u001b[0mself\u001b[0m\u001b[1;33m[\u001b[0m\u001b[0mname\u001b[0m\u001b[1;33m]\u001b[0m\u001b[1;33m\u001b[0m\u001b[1;33m\u001b[0m\u001b[0m\n\u001b[1;32m-> 5465\u001b[1;33m             \u001b[1;32mreturn\u001b[0m \u001b[0mobject\u001b[0m\u001b[1;33m.\u001b[0m\u001b[0m__getattribute__\u001b[0m\u001b[1;33m(\u001b[0m\u001b[0mself\u001b[0m\u001b[1;33m,\u001b[0m \u001b[0mname\u001b[0m\u001b[1;33m)\u001b[0m\u001b[1;33m\u001b[0m\u001b[1;33m\u001b[0m\u001b[0m\n\u001b[0m\u001b[0;32m   5466\u001b[0m \u001b[1;33m\u001b[0m\u001b[0m\n\u001b[0;32m   5467\u001b[0m     \u001b[1;32mdef\u001b[0m \u001b[0m__setattr__\u001b[0m\u001b[1;33m(\u001b[0m\u001b[0mself\u001b[0m\u001b[1;33m,\u001b[0m \u001b[0mname\u001b[0m\u001b[1;33m:\u001b[0m \u001b[0mstr\u001b[0m\u001b[1;33m,\u001b[0m \u001b[0mvalue\u001b[0m\u001b[1;33m)\u001b[0m \u001b[1;33m->\u001b[0m \u001b[1;32mNone\u001b[0m\u001b[1;33m:\u001b[0m\u001b[1;33m\u001b[0m\u001b[1;33m\u001b[0m\u001b[0m\n",
      "\u001b[1;31mAttributeError\u001b[0m: 'DataFrame' object has no attribute 'reverse'"
     ]
    }
   ],
   "source": [
    "import yfinance as yf\n",
    "import ccxt\n",
    "\n",
    "from mktProfile import MarketProfile\n",
    "\n",
    "\"\"\"\n",
    "An examples on how to use this script.\n",
    "Here, we are retrieving 1 minute ohlcv data from Bittrex. \n",
    "\"\"\"\n",
    "\n",
    "# Initialize Exchange\n",
    "bittrex = ccxt.bittrex()\n",
    "bittrex.load_markets(reload=True)\n",
    "\n",
    "# Define Symbol\n",
    "symbol = 'BTC/USDT'\n",
    "\n",
    "# Fetch Ohlcv data\n",
    "# ohlcv = bittrex.fetch_ohlcv(symbol, \"1m\")\n",
    "ohlcv = yf.download('^NSEI', '2021-07-01', '2021-07-05', interval = '5m').reset_index()\n",
    "period = 6 * 60 * 60 * 100\n",
    "\n",
    "# Create an object of MarketProfile\n",
    "mktPfl = MarketProfile.init_market_profile_list(ohlcv_list=ohlcv, duration=period)\n",
    "mktPfl.convert_to_list()\n",
    "mktPfl.prepare_ohlcv()\n",
    "\n",
    "# Build the profile\n",
    "df = mktPfl.create_profile()\n",
    "\n",
    "# Compact the profile\n",
    "cmp_df = mktPfl.compact_profile()\n",
    "\n",
    "# Calculate the poc\n",
    "poc = mktPfl.poc()\n",
    "\n",
    "# Get the range of prices\n",
    "low, high = mktPfl.range()\n",
    "\n",
    "# mktPfl.reduce_profile(64).to_csv('hello.csv')\n",
    "# # Write to csv\n",
    "# cmp_df.to_csv(\"BTCUSDT.csv\")\n",
    "cmp_df"
   ]
  }
 ],
 "metadata": {
  "kernelspec": {
   "display_name": "Python 3",
   "language": "python",
   "name": "python3"
  },
  "language_info": {
   "codemirror_mode": {
    "name": "ipython",
    "version": 3
   },
   "file_extension": ".py",
   "mimetype": "text/x-python",
   "name": "python",
   "nbconvert_exporter": "python",
   "pygments_lexer": "ipython3",
   "version": "3.8.8"
  }
 },
 "nbformat": 4,
 "nbformat_minor": 5
}
