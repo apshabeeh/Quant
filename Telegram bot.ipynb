{
 "cells": [
  {
   "cell_type": "code",
   "execution_count": 4,
   "id": "c9fc5a59",
   "metadata": {},
   "outputs": [
    {
     "name": "stdout",
     "output_type": "stream",
     "text": [
      "{'delete_chat_photo': False, 'chat': {'username': 'quantnifty', 'type': 'channel', 'id': -1001554562953, 'title': 'Quant Nifty'}, 'caption_entities': [], 'new_chat_photo': [], 'channel_chat_created': False, 'group_chat_created': False, 'author_signature': 'Quant bot', 'supergroup_chat_created': False, 'text': 'testing telegram bot', 'sender_chat': {'username': 'quantnifty', 'type': 'channel', 'id': -1001554562953, 'title': 'Quant Nifty'}, 'photo': [], 'date': 1624791782, 'new_chat_members': [], 'message_id': 4, 'entities': []}\n"
     ]
    }
   ],
   "source": [
    "import telegram\n",
    "# from config import telegram_token_news\n",
    "msg = 'testing telegram bot'\n",
    "bot = telegram.Bot(token='1821303837:AAFFNo5wInm-mi_3CM1B30KyyVy75bdKxSk')\n",
    "status = bot.send_message(chat_id='@quantnifty', text=msg)\n",
    "print(status)"
   ]
  }
 ],
 "metadata": {
  "kernelspec": {
   "display_name": "Python 3",
   "language": "python",
   "name": "python3"
  },
  "language_info": {
   "codemirror_mode": {
    "name": "ipython",
    "version": 3
   },
   "file_extension": ".py",
   "mimetype": "text/x-python",
   "name": "python",
   "nbconvert_exporter": "python",
   "pygments_lexer": "ipython3",
   "version": "3.8.8"
  }
 },
 "nbformat": 4,
 "nbformat_minor": 5
}
