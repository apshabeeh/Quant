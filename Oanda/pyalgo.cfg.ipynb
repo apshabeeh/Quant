{
 "cells": [
  {
   "cell_type": "code",
   "execution_count": 1,
   "id": "30125b24",
   "metadata": {},
   "outputs": [],
   "source": [
    "import fxcmpy\n",
    "import socketio"
   ]
  },
  {
   "cell_type": "code",
   "execution_count": null,
   "id": "88c1a138",
   "metadata": {},
   "outputs": [
    {
     "name": "stderr",
     "output_type": "stream",
     "text": [
      "|ERROR|2021-07-06 16:57:25,495|Connection error: None\n",
      "|ERROR|2021-07-06 16:57:26,053|Connection error: None\n",
      "|ERROR|2021-07-06 16:57:28,295|Connection error: None\n",
      "|ERROR|2021-07-06 16:57:30,538|Connection error: None\n",
      "|ERROR|2021-07-06 16:57:32,812|Connection error: None\n",
      "|ERROR|2021-07-06 16:57:35,674|Connection error: None\n",
      "|ERROR|2021-07-06 16:57:37,664|Connection error: None\n",
      "|ERROR|2021-07-06 16:57:40,991|Connection error: None\n",
      "|ERROR|2021-07-06 16:57:43,501|Connection error: None\n",
      "|ERROR|2021-07-06 16:57:46,012|Connection error: None\n",
      "|ERROR|2021-07-06 16:57:48,375|Connection error: None\n",
      "|ERROR|2021-07-06 16:57:51,630|Connection error: None\n",
      "|ERROR|2021-07-06 16:57:59,310|Connection error: None\n",
      "|ERROR|2021-07-06 16:58:01,894|Connection error: None\n",
      "|ERROR|2021-07-06 16:58:02,065|Connection error: None\n",
      "|ERROR|2021-07-06 16:58:09,402|Connection error: None\n",
      "|ERROR|2021-07-06 16:58:09,824|Connection error: None\n",
      "|ERROR|2021-07-06 16:58:15,820|Connection error: None\n",
      "|ERROR|2021-07-06 16:58:16,224|Connection error: None\n",
      "|ERROR|2021-07-06 16:58:21,217|Connection error: None\n",
      "|ERROR|2021-07-06 16:58:21,992|Connection error: None\n",
      "|ERROR|2021-07-06 16:58:26,600|Connection error: None\n",
      "|ERROR|2021-07-06 16:58:27,054|Connection error: None\n"
     ]
    }
   ],
   "source": [
    "TOKEN = '5c156faa54bcc1e79be243b046ba1864b93f7bc6'\n",
    "con = fxcmpy.fxcmpy(access_token=TOKEN)\n",
    "# con.is_connected()\n",
    "# con.get_default_account()\n",
    "# print(api)"
   ]
  }
 ],
 "metadata": {
  "kernelspec": {
   "display_name": "Python 3",
   "language": "python",
   "name": "python3"
  },
  "language_info": {
   "codemirror_mode": {
    "name": "ipython",
    "version": 3
   },
   "file_extension": ".py",
   "mimetype": "text/x-python",
   "name": "python",
   "nbconvert_exporter": "python",
   "pygments_lexer": "ipython3",
   "version": "3.8.8"
  }
 },
 "nbformat": 4,
 "nbformat_minor": 5
}
