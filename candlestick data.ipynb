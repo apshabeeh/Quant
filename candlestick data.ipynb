{
 "cells": [
  {
   "cell_type": "code",
   "execution_count": null,
   "id": "6a2746c0-e187-436b-b90d-bfe664f3a69b",
   "metadata": {},
   "outputs": [],
   "source": [
    "!pip install pandas"
   ]
  },
  {
   "cell_type": "code",
   "execution_count": null,
   "id": "5abd1ca0",
   "metadata": {},
   "outputs": [],
   "source": [
    "import pandas as pd\n",
    "import numpy as np"
   ]
  },
  {
   "cell_type": "code",
   "execution_count": null,
   "id": "c0d40cde",
   "metadata": {},
   "outputs": [],
   "source": [
    "rel = pd.read_csv('C:/Users/SHABEEH AP/Downloads/reliance.csv', sep=',')\n",
    "rel"
   ]
  },
  {
   "cell_type": "code",
   "execution_count": null,
   "id": "cc9765ec",
   "metadata": {},
   "outputs": [],
   "source": [
    "print(rel.columns)\n",
    "# rel.set_axis(['Date ', 'series ', 'OPEN ', 'HIGH ', 'LOW ', 'PREV. CLOSE ', 'ltp ',\n",
    "#        'close ', 'vwap ', '52W H ', '52W L ', 'VOLUME ', 'VALUE ',\n",
    "#        'No of trades '], axis=1)\n",
    "# rel.head()"
   ]
  },
  {
   "cell_type": "code",
   "execution_count": null,
   "id": "8963d12b",
   "metadata": {},
   "outputs": [],
   "source": [
    "# Preparing Data to visualise\n",
    "\n",
    "rel_close = rel[['Date ', 'close ']]  # The columns which we require\n",
    "\n",
    "rel_close.set_index('Date ', inplace=True)  # Setting index as date\n",
    "\n",
    "# More on this in the upcoming section on 'Pandas'\n",
    "\n",
    "rel_close\n",
    "# type(rel_close)"
   ]
  },
  {
   "cell_type": "code",
   "execution_count": null,
   "id": "c14976a3",
   "metadata": {},
   "outputs": [],
   "source": [
    "import matplotlib.pyplot as plt\n",
    "%matplotlib inline\n",
    "\n",
    "plt.figure(figsize=(14,5))\n",
    "plt.grid(True)\n",
    "plt.title('Reliance Close Representation')\n",
    "plt.xlabel('Trading Days')\n",
    "plt.ylabel('Reliance Close Price')\n",
    "plt.plot(rel_close, 'b')\n",
    "\n",
    "plt.show()"
   ]
  }
 ],
 "metadata": {
  "kernelspec": {
   "display_name": "Python 3",
   "language": "python",
   "name": "python3"
  },
  "language_info": {
   "codemirror_mode": {
    "name": "ipython",
    "version": 3
   },
   "file_extension": ".py",
   "mimetype": "text/x-python",
   "name": "python",
   "nbconvert_exporter": "python",
   "pygments_lexer": "ipython3",
   "version": "3.8.2"
  }
 },
 "nbformat": 4,
 "nbformat_minor": 5
}
