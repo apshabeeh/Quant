{
 "cells": [
  {
   "cell_type": "code",
   "execution_count": 10,
   "id": "1cf04df3",
   "metadata": {},
   "outputs": [],
   "source": [
    "import pandas as pd\n",
    "import numpy as np\n",
    "import matplotlib.pyplot as plt\n",
    "%matplotlib inline\n",
    "import yfinance as yf\n",
    "from datetime import date"
   ]
  },
  {
   "cell_type": "code",
   "execution_count": 11,
   "id": "d5c06ccb",
   "metadata": {},
   "outputs": [],
   "source": [
    "# end_date = date.today()\n",
    "# data = yf.download('SBIN.NS', start='2020-01-01', end = '2021-06-11')\n",
    "# data"
   ]
  },
  {
   "cell_type": "code",
   "execution_count": 12,
   "id": "b6bdf09e",
   "metadata": {},
   "outputs": [],
   "source": [
    "# \n"
   ]
  },
  {
   "cell_type": "code",
   "execution_count": 13,
   "id": "3027b453",
   "metadata": {},
   "outputs": [],
   "source": [
    "# df['Buy Criteria'] = (df['Close'] > df['150 ema']) | (df['5 ema'] > df['10 ema'])"
   ]
  },
  {
   "cell_type": "code",
   "execution_count": 14,
   "id": "fe4f35f6",
   "metadata": {},
   "outputs": [],
   "source": [
    "import pandas as pd\n",
    "import numpy as np\n",
    "import matplotlib.pyplot as plt\n",
    "from sklearn.neighbors import KNeighborsClassifier\n",
    "from sklearn.metrics import accuracy_score\n",
    "from datetime import datetime, date\n",
    "# from pandas_datareader import data as pdr\n",
    "import yfinance as yf\n",
    "from pandas.plotting import register_matplotlib_converters\n",
    "register_matplotlib_converters()"
   ]
  },
  {
   "cell_type": "code",
   "execution_count": 15,
   "id": "32009236",
   "metadata": {},
   "outputs": [],
   "source": [
    "nifty50 = 'https://www1.nseindia.com/content/indices/ind_nifty50list.csv'\n",
    "niftynext50 = 'https://www1.nseindia.com/content/indices/ind_niftynext50list.csv'\n",
    "nifty100 = 'https://www1.nseindia.com/content/indices/ind_nifty100list.csv'\n",
    "nifty200 = 'https://www1.nseindia.com/content/indices/ind_nifty200list.csv'\n",
    "nifty500 = 'https://www1.nseindia.com/content/indices/ind_nifty500list.csv'\n",
    "nifty500multicap = 'https://www1.nseindia.com/content/indices/ind_nifty500Multicap502525_list.csv'\n",
    "niftymidcap150 = 'https://www1.nseindia.com/content/indices/ind_niftymidcap150list.csv'\n",
    "niftymidcap50 = 'https://www1.nseindia.com/content/indices/ind_niftymidcap50list.csv'\n",
    "niftymidcap100 = 'https://www1.nseindia.com/content/indices/ind_niftymidcap100list.csv'\n",
    "niftysmallcap250 = 'https://www1.nseindia.com/content/indices/ind_niftysmallcap250list.csv'\n",
    "niftysmallcap50 = 'https://www1.nseindia.com/content/indices/ind_niftysmallcap50list.csv'\n",
    "niftysmallcap100 = 'https://www1.nseindia.com/content/indices/ind_niftysmallcap100list.csv'\n",
    "niftymicrocap250 = 'https://www1.nseindia.com/content/indices/ind_niftymicrocap250_list.csv'\n",
    "niftylargemidcap250 = 'https://www1.nseindia.com/content/indices/ind_niftylargemidcap250list.csv'\n",
    "niftymidsmallcap400 = 'https://www1.nseindia.com/content/indices/ind_niftymidsmallcap400list.csv'"
   ]
  },
  {
   "cell_type": "code",
   "execution_count": 25,
   "id": "1d298145",
   "metadata": {},
   "outputs": [
    {
     "name": "stdout",
     "output_type": "stream",
     "text": [
      "[*********************100%***********************]  1 of 1 completed\n",
      "[*********************100%***********************]  1 of 1 completed\n",
      "[*********************100%***********************]  1 of 1 completed\n",
      "[*********************100%***********************]  1 of 1 completed\n",
      "[*********************100%***********************]  1 of 1 completed\n",
      "[*********************100%***********************]  1 of 1 completed\n",
      "[*********************100%***********************]  1 of 1 completed\n",
      "[*********************100%***********************]  1 of 1 completed\n",
      "[*********************100%***********************]  1 of 1 completed\n",
      "[*********************100%***********************]  1 of 1 completed\n",
      "[*********************100%***********************]  1 of 1 completed\n",
      "[*********************100%***********************]  1 of 1 completed\n",
      "[*********************100%***********************]  1 of 1 completed\n",
      "[*********************100%***********************]  1 of 1 completed\n",
      "[*********************100%***********************]  1 of 1 completed\n",
      "[*********************100%***********************]  1 of 1 completed\n",
      "[*********************100%***********************]  1 of 1 completed\n",
      "[*********************100%***********************]  1 of 1 completed\n",
      "[*********************100%***********************]  1 of 1 completed\n",
      "[*********************100%***********************]  1 of 1 completed\n",
      "[*********************100%***********************]  1 of 1 completed\n",
      "[*********************100%***********************]  1 of 1 completed\n",
      "[*********************100%***********************]  1 of 1 completed\n",
      "[*********************100%***********************]  1 of 1 completed\n",
      "[*********************100%***********************]  1 of 1 completed\n",
      "[*********************100%***********************]  1 of 1 completed\n",
      "[*********************100%***********************]  1 of 1 completed\n",
      "[*********************100%***********************]  1 of 1 completed\n",
      "[*********************100%***********************]  1 of 1 completed\n",
      "[*********************100%***********************]  1 of 1 completed\n",
      "[*********************100%***********************]  1 of 1 completed\n",
      "[*********************100%***********************]  1 of 1 completed\n",
      "[*********************100%***********************]  1 of 1 completed\n",
      "[*********************100%***********************]  1 of 1 completed\n",
      "[*********************100%***********************]  1 of 1 completed\n",
      "[*********************100%***********************]  1 of 1 completed\n",
      "[*********************100%***********************]  1 of 1 completed\n",
      "[*********************100%***********************]  1 of 1 completed\n",
      "[*********************100%***********************]  1 of 1 completed\n",
      "[*********************100%***********************]  1 of 1 completed\n",
      "[*********************100%***********************]  1 of 1 completed\n",
      "[*********************100%***********************]  1 of 1 completed\n",
      "[*********************100%***********************]  1 of 1 completed\n",
      "[*********************100%***********************]  1 of 1 completed\n",
      "[*********************100%***********************]  1 of 1 completed\n",
      "[*********************100%***********************]  1 of 1 completed\n",
      "[*********************100%***********************]  1 of 1 completed\n",
      "[*********************100%***********************]  1 of 1 completed\n",
      "[*********************100%***********************]  1 of 1 completed\n",
      "[*********************100%***********************]  1 of 1 completed\n"
     ]
    }
   ],
   "source": [
    "data = pd.read_csv(niftysmallcap50)\n",
    "data = data[['Symbol']]\n",
    "data\n",
    "\n",
    "for i in range(0, len(data)):\n",
    "    df = yf.download('ASIANPAINT.NS', '2010-05-01', '2021-06-15')\n",
    "    df = df.dropna()\n",
    "    df = df[['Open', 'High', 'Low', 'Close']]\n",
    "    df['Open-Close'] = df.Open - df.Close\n",
    "    df['High-Low'] = df.High - df.Low\n",
    "    df = df.dropna()\n",
    "    \n",
    "    X=df[['Open-Close', 'High-Low']]\n",
    "    Y = np.where(df['Close'].shift(-1) > df['Close'], 1, -1)\n",
    "    \n",
    "    split_percentage = 0.7\n",
    "    split = int(split_percentage*len(df))\n",
    "\n",
    "    X_train = X[:split]\n",
    "    Y_train = Y[:split]\n",
    "\n",
    "    X_test = X[split:]\n",
    "    Y_test = Y[split:]\n",
    "    \n",
    "    knn = KNeighborsClassifier(n_neighbors = 15)\n",
    "\n",
    "    knn.fit(X_train, Y_train)\n",
    "\n",
    "    accuracy_train = accuracy_score(Y_train, knn.predict(X_train))\n",
    "    accuracy_test = accuracy_score(Y_test, knn.predict(X_test))\n",
    "    \n",
    "    df['Predicted_Signal'] = knn.predict(X)\n",
    "\n",
    "    df['returns'] = np.log(df['Close']/df['Close'].shift(1))\n",
    "    Cumulative_Returns = df[split:]['returns'].cumsum()*100\n",
    "\n",
    "    df['Strategy_returns'] = df['returns']*df['Predicted_Signal'].shift(1)\n",
    "    Cumulative_Strategy_Returns = df[split:]['Strategy_returns'].cumsum()*100\n",
    "    \n",
    "    std = Cumulative_Strategy_Returns.std()\n",
    "    Sharpe = (Cumulative_Strategy_Returns - Cumulative_Returns)/std\n",
    "    Sharpe = Sharpe.mean()\n",
    "    \n",
    "    if(Sharpe > 0.1):\n",
    "        print(Symbol)\n",
    "        print('Sharpe ratio: %2f' %Sharpe)\n",
    "    elif(accuracy_train > 0.7):\n",
    "        print(Symbol)\n",
    "        print('Train_data Accuracy: %2f' %accuracy_train)\n",
    "    elif(accuracy_test > 0.7):\n",
    "        print(Symbol)\n",
    "        print('Test_data Accuracy: %2f' %accuracy_test)"
   ]
  }
 ],
 "metadata": {
  "kernelspec": {
   "display_name": "Python 3",
   "language": "python",
   "name": "python3"
  },
  "language_info": {
   "codemirror_mode": {
    "name": "ipython",
    "version": 3
   },
   "file_extension": ".py",
   "mimetype": "text/x-python",
   "name": "python",
   "nbconvert_exporter": "python",
   "pygments_lexer": "ipython3",
   "version": "3.8.8"
  }
 },
 "nbformat": 4,
 "nbformat_minor": 5
}
