{
 "cells": [
  {
   "cell_type": "code",
   "execution_count": 1,
   "metadata": {},
   "outputs": [],
   "source": [
    "from nsepy import get_history\n",
    "import datetime\n",
    "from datetime import date\n",
    "import pandas as pd\n",
    "import matplotlib.pyplot as plt\n",
    "import numpy as np\n",
    "from nsepy.derivatives import get_expiry_date"
   ]
  },
  {
   "cell_type": "code",
   "execution_count": 3,
   "metadata": {},
   "outputs": [
    {
     "name": "stdout",
     "output_type": "stream",
     "text": [
      "2020-07-30\n"
     ]
    }
   ],
   "source": [
    "expiry = max(get_expiry_date(year=2020, month=7))\n",
    "print (expiry)"
   ]
  },
  {
   "cell_type": "code",
   "execution_count": 4,
   "metadata": {},
   "outputs": [],
   "source": [
    "nifty_fut = get_history(symbol=\"RELIANCE\",\n",
    "        start=expiry,\n",
    "        end=expiry,\n",
    "        futures=True,\n",
    "        expiry_date=expiry)\n",
    "\n",
    "niftydata = nifty_fut\n",
    "\n",
    "nifty_opt = get_history(symbol=\"RELIANCE\",\n",
    "        start=expiry,\n",
    "        end=expiry,\n",
    "        option_type='CE',\n",
    "        strike_price=2100,\n",
    "        expiry_date=expiry)\n",
    "\n",
    "optiondata = nifty_opt\n",
    "\n",
    "y = expiry + datetime.timedelta(days=1)"
   ]
  },
  {
   "cell_type": "code",
   "execution_count": 5,
   "metadata": {},
   "outputs": [
    {
     "name": "stdout",
     "output_type": "stream",
     "text": [
      "              Symbol      Expiry     Open    High      Low   Close    Last  \\\n",
      "Date                                                                         \n",
      "2020-07-30  RELIANCE  2020-07-30  2101.45  2139.5  2075.05  2111.1  2099.0   \n",
      "\n",
      "            Settle Price  Number of Contracts      Turnover  Open Interest  \\\n",
      "Date                                                                         \n",
      "2020-07-30       2108.85                41657  4.443059e+10        2026565   \n",
      "\n",
      "            Change in OI  Underlying  \n",
      "Date                                  \n",
      "2020-07-30      -4118275         NaN  \n",
      "              Symbol      Expiry Option Type  Strike Price  Open  High   Low  \\\n",
      "Date                                                                           \n",
      "2020-07-30  RELIANCE  2020-07-30          CE        2100.0  16.0  42.0  0.05   \n",
      "\n",
      "            Close  Last  Settle Price  Number of Contracts      Turnover  \\\n",
      "Date                                                                       \n",
      "2020-07-30  12.25  0.05       2108.85                 8606  9.210210e+09   \n",
      "\n",
      "            Premium Turnover  Open Interest  Change in OI  Underlying  \n",
      "Date                                                                   \n",
      "2020-07-30        83547000.0         179275       -472680         NaN  \n"
     ]
    }
   ],
   "source": [
    "print (niftydata.tail())\n",
    "print (optiondata.tail())"
   ]
  },
  {
   "cell_type": "code",
   "execution_count": 7,
   "metadata": {},
   "outputs": [],
   "source": [
    "for x in range (1,7):\n",
    "    expiry = max(get_expiry_date(year=2021, month=x))\n",
    "    nifty_fut = get_history(symbol=\"RELIANCE\",\n",
    "        start=y,\n",
    "        end=expiry,\n",
    "        futures=True,\n",
    "        expiry_date=expiry)\n",
    "\n",
    "    niftydata = niftydata.append(nifty_fut)\n",
    "        \n",
    "    high = nifty_fut[['Close']].max()\n",
    "    low = nifty_fut[['Close']].min()\n",
    "    Diff = high - low\n",
    "    high = int((round(high/20)*20)+100)\n",
    "    low = int((round(low/20)*20)-100)\n",
    "    \n",
    "    for z in range (low, high, 20):\n",
    "        nifty_opt = get_history(symbol=\"RELIANCE\",\n",
    "        start=y,\n",
    "        end=expiry,\n",
    "        option_type='CE',\n",
    "        strike_price=z,\n",
    "        expiry_date=expiry)\n",
    "        optiondata = optiondata.append(nifty_opt)\n",
    "        nifty_opt = get_history(symbol=\"RELIANCE\",\n",
    "        start=y,\n",
    "        end=expiry,\n",
    "        option_type='PE',\n",
    "        strike_price=z,\n",
    "        expiry_date=expiry)\n",
    "        optiondata = optiondata.append(nifty_opt)\n",
    "    y = expiry + datetime.timedelta(days=1) "
   ]
  },
  {
   "cell_type": "code",
   "execution_count": 82,
   "metadata": {},
   "outputs": [],
   "source": [
    "niftydata.to_excel(\"RELIANCEfuture2018excel.xls\", index=True, encoding='utf8')\n",
    "optiondata.to_excel(\"RELIANCEOption2018excel.xls\", index=True, encoding='utf8')"
   ]
  },
  {
   "cell_type": "code",
   "execution_count": 8,
   "metadata": {},
   "outputs": [
    {
     "data": {
      "text/plain": [
       "<AxesSubplot:xlabel='Date'>"
      ]
     },
     "execution_count": 8,
     "metadata": {},
     "output_type": "execute_result"
    },
    {
     "data": {
      "image/png": "[encoded data removed]",
      "text/plain": [
       "<Figure size 432x288 with 1 Axes>"
      ]
     },
     "metadata": {
      "needs_background": "light"
     },
     "output_type": "display_data"
    }
   ],
   "source": [
    "NiftyCF = pd.DataFrame({\"Close\": niftydata[\"Close\"]})\n",
    "NiftyCF.plot()"
   ]
  },
  {
   "cell_type": "code",
   "execution_count": 85,
   "metadata": {},
   "outputs": [
    {
     "name": "stdout",
     "output_type": "stream",
     "text": [
      "                Expiry Type  Strike    Last\n",
      "Date                                       \n",
      "2018-12-20  2018-12-27   PE  1260.0  132.35\n",
      "2018-12-21  2018-12-27   PE  1260.0  155.00\n",
      "2018-12-24  2018-12-27   PE  1260.0  168.95\n",
      "2018-12-26  2018-12-27   PE  1260.0  180.80\n",
      "2018-12-27  2018-12-27   PE  1260.0  138.00\n"
     ]
    }
   ],
   "source": [
    "print (NiftyCO.tail())"
   ]
  },
  {
   "cell_type": "code",
   "execution_count": 87,
   "metadata": {},
   "outputs": [
    {
     "name": "stdout",
     "output_type": "stream",
     "text": [
      "              Close\n",
      "Date               \n",
      "2018-12-20  1130.90\n",
      "2018-12-21  1100.45\n",
      "2018-12-24  1090.55\n",
      "2018-12-26  1098.60\n",
      "2018-12-27  1120.50\n",
      "                            780.0  800.0  820.0  840.0  860.0  880.0  900.0  \\\n",
      "Date       Type Expiry                                                        \n",
      "2018-12-24 PE   2018-12-27    NaN    NaN    NaN    NaN    NaN    NaN    NaN   \n",
      "2018-12-26 CE   2018-12-27    NaN    NaN    NaN    NaN    NaN    NaN    NaN   \n",
      "           PE   2018-12-27    NaN    NaN    NaN    NaN    NaN    NaN    NaN   \n",
      "2018-12-27 CE   2018-12-27    NaN    NaN    NaN    NaN    NaN    NaN    NaN   \n",
      "           PE   2018-12-27    NaN    NaN    NaN    NaN    NaN    NaN    NaN   \n",
      "\n",
      "                            920.0  940.0  960.0  ...  1240.0  1260.0  1280.0  \\\n",
      "Date       Type Expiry                           ...                           \n",
      "2018-12-24 PE   2018-12-27    NaN    NaN    NaN  ...  146.00  168.95     NaN   \n",
      "2018-12-26 CE   2018-12-27    NaN    NaN    NaN  ...    0.05    0.10     NaN   \n",
      "           PE   2018-12-27    NaN    NaN    NaN  ...  152.00  180.80     NaN   \n",
      "2018-12-27 CE   2018-12-27    NaN    NaN    NaN  ...    0.05    0.05     NaN   \n",
      "           PE   2018-12-27    NaN    NaN    NaN  ...  120.85  138.00     NaN   \n",
      "\n",
      "                            1300.0  1320.0  1340.0  1360.0  1380.0  1400.0  \\\n",
      "Date       Type Expiry                                                       \n",
      "2018-12-24 PE   2018-12-27     NaN     NaN     NaN     NaN     NaN     NaN   \n",
      "2018-12-26 CE   2018-12-27     NaN     NaN     NaN     NaN     NaN     NaN   \n",
      "           PE   2018-12-27     NaN     NaN     NaN     NaN     NaN     NaN   \n",
      "2018-12-27 CE   2018-12-27     NaN     NaN     NaN     NaN     NaN     NaN   \n",
      "           PE   2018-12-27     NaN     NaN     NaN     NaN     NaN     NaN   \n",
      "\n",
      "                              Close  \n",
      "Date       Type Expiry               \n",
      "2018-12-24 PE   2018-12-27  1090.55  \n",
      "2018-12-26 CE   2018-12-27  1098.60  \n",
      "           PE   2018-12-27  1098.60  \n",
      "2018-12-27 CE   2018-12-27  1120.50  \n",
      "           PE   2018-12-27  1120.50  \n",
      "\n",
      "[5 rows x 33 columns]\n"
     ]
    }
   ],
   "source": [
    "NiftyCO = pd.DataFrame({\"Expiry\": optiondata['Expiry'],\n",
    "                        \"Type\": optiondata['Option Type'], \n",
    "                        \"Strike\": optiondata['Strike Price'],\n",
    "                        \"Last\": optiondata['Last']})\n",
    "\n",
    "Opttable = pd.pivot_table(NiftyCO, values ='Last', index =['Date', 'Type', 'Expiry'], \n",
    "                         columns =['Strike'], aggfunc = np.sum) \n",
    "\n",
    "Opttable = Opttable.join(NiftyCF)\n",
    "print (Opttable.tail())"
   ]
  },
  {
   "cell_type": "code",
   "execution_count": 88,
   "metadata": {},
   "outputs": [],
   "source": [
    "Opttable.to_csv(\"RELIANCEOptionpivot2018.csv\", index=True, encoding='utf8')\n",
    "Opttable.to_excel(\"RELIANCEOptionpivot2018Excel.xls\", index=True, encoding='utf8')"
   ]
  },
  {
   "cell_type": "code",
   "execution_count": 139,
   "metadata": {},
   "outputs": [],
   "source": [
    "optiontable = pd.read_csv('Optionpivot.csv')"
   ]
  },
  {
   "cell_type": "code",
   "execution_count": 140,
   "metadata": {},
   "outputs": [
    {
     "name": "stdout",
     "output_type": "stream",
     "text": [
      "         Date Type      Expiry  10500.0  10600.0  10700.0  10800.0  10900.0  \\\n",
      "0  2018-12-27   CE  2018-12-27      NaN      NaN      NaN     0.05      NaN   \n",
      "1  2018-12-28   CE  2019-01-31   467.85   397.40    319.0   249.00   190.00   \n",
      "2  2018-12-28   PE  2019-01-31    66.45    86.60    109.0   139.00   174.95   \n",
      "3  2018-12-31   CE  2019-01-31   480.00   401.50    328.3   257.00   194.40   \n",
      "4  2018-12-31   PE  2019-01-31    67.80    86.95    111.1   140.00   178.20   \n",
      "\n",
      "   11000.0  11100.0     Nifty  \n",
      "0      NaN      NaN  10783.65  \n",
      "1   136.10      NaN  10907.75  \n",
      "2   222.50      NaN  10907.75  \n",
      "3   141.10      NaN  10916.85  \n",
      "4   221.95      NaN  10916.85  \n"
     ]
    }
   ],
   "source": [
    "print (optiontable.head())"
   ]
  },
  {
   "cell_type": "code",
   "execution_count": 142,
   "metadata": {},
   "outputs": [
    {
     "name": "stdout",
     "output_type": "stream",
     "text": [
      "10900\n",
      "10500\n"
     ]
    }
   ],
   "source": [
    "high = high - 200\n",
    "print (high)\n",
    "print (low)"
   ]
  },
  {
   "cell_type": "code",
   "execution_count": 143,
   "metadata": {},
   "outputs": [
    {
     "name": "stdout",
     "output_type": "stream",
     "text": [
      "10500\n",
      "10600Butterfly updated\n",
      "10600\n",
      "10700Butterfly updated\n",
      "10700\n",
      "10800Butterfly updated\n",
      "10800\n",
      "10900Butterfly updated\n"
     ]
    }
   ],
   "source": [
    "for z in range (low, high, 100):\n",
    "    print (z)\n",
    "    l1 = z\n",
    "    l2 = z+100\n",
    "    l3 = z+200\n",
    "    bf0 = 'bf'+str(l2)\n",
    "    bf1 = str(l1)+'.0'\n",
    "    bf2 = str(l2)+'.0'\n",
    "    bf3 = str(l3)+'.0'\n",
    "    optiontable[bf0] = optiontable[bf1]-optiontable[bf2]-optiontable[bf2]+optiontable[bf3]\n",
    "    print (str(l2)+'Butterfly updated')"
   ]
  },
  {
   "cell_type": "code",
   "execution_count": 144,
   "metadata": {},
   "outputs": [
    {
     "name": "stdout",
     "output_type": "stream",
     "text": [
      "         Date Type      Expiry  10500.0  10600.0  10700.0  10800.0  10900.0  \\\n",
      "0  2018-12-27   CE  2018-12-27      NaN      NaN      NaN     0.05      NaN   \n",
      "1  2018-12-28   CE  2019-01-31   467.85   397.40    319.0   249.00   190.00   \n",
      "2  2018-12-28   PE  2019-01-31    66.45    86.60    109.0   139.00   174.95   \n",
      "3  2018-12-31   CE  2019-01-31   480.00   401.50    328.3   257.00   194.40   \n",
      "4  2018-12-31   PE  2019-01-31    67.80    86.95    111.1   140.00   178.20   \n",
      "\n",
      "   11000.0  11100.0     Nifty  bf10600  bf10700  bf10800  bf10900  \n",
      "0      NaN      NaN  10783.65      NaN      NaN      NaN      NaN  \n",
      "1   136.10      NaN  10907.75    -7.95     8.40    11.00     5.10  \n",
      "2   222.50      NaN  10907.75     2.25     7.60     5.95    11.60  \n",
      "3   141.10      NaN  10916.85     5.30     1.90     8.70     9.30  \n",
      "4   221.95      NaN  10916.85     5.00     4.75     9.30     5.55  \n"
     ]
    }
   ],
   "source": [
    "print (optiontable.head())"
   ]
  },
  {
   "cell_type": "code",
   "execution_count": 145,
   "metadata": {},
   "outputs": [],
   "source": [
    "optiontable.to_csv(\"Optionbf.csv\", index=True, encoding='utf8')"
   ]
  },
  {
   "cell_type": "code",
   "execution_count": null,
   "metadata": {},
   "outputs": [],
   "source": []
  }
 ],
 "metadata": {
  "kernelspec": {
   "display_name": "Python 3",
   "language": "python",
   "name": "python3"
  },
  "language_info": {
   "codemirror_mode": {
    "name": "ipython",
    "version": 3
   },
   "file_extension": ".py",
   "mimetype": "text/x-python",
   "name": "python",
   "nbconvert_exporter": "python",
   "pygments_lexer": "ipython3",
   "version": "3.8.8"
  }
 },
 "nbformat": 4,
 "nbformat_minor": 2
}
