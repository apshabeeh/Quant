{
 "cells": [
  {
   "cell_type": "code",
   "execution_count": 16,
   "id": "69796130",
   "metadata": {},
   "outputs": [
    {
     "ename": "ModuleNotFoundError",
     "evalue": "No module named 'krakenex'",
     "output_type": "error",
     "traceback": [
      "\u001b[1;31m---------------------------------------------------------------------------\u001b[0m",
      "\u001b[1;31mModuleNotFoundError\u001b[0m                       Traceback (most recent call last)",
      "\u001b[1;32m<ipython-input-16-633107811150>\u001b[0m in \u001b[0;36m<module>\u001b[1;34m\u001b[0m\n\u001b[1;32m----> 1\u001b[1;33m \u001b[1;32mimport\u001b[0m \u001b[0mkrakenex\u001b[0m\u001b[1;33m\u001b[0m\u001b[1;33m\u001b[0m\u001b[0m\n\u001b[0m\u001b[0;32m      2\u001b[0m \u001b[1;32mfrom\u001b[0m \u001b[0mpykrakenapi\u001b[0m \u001b[1;32mimport\u001b[0m \u001b[0mkrakenAPI\u001b[0m\u001b[1;33m\u001b[0m\u001b[1;33m\u001b[0m\u001b[0m\n\u001b[0;32m      3\u001b[0m \u001b[1;32mimport\u001b[0m \u001b[0myfinance\u001b[0m \u001b[1;32mas\u001b[0m \u001b[0myf\u001b[0m\u001b[1;33m\u001b[0m\u001b[1;33m\u001b[0m\u001b[0m\n\u001b[0;32m      4\u001b[0m \u001b[1;32mimport\u001b[0m \u001b[0mpandas\u001b[0m \u001b[1;32mas\u001b[0m \u001b[0mpd\u001b[0m\u001b[1;33m\u001b[0m\u001b[1;33m\u001b[0m\u001b[0m\n\u001b[0;32m      5\u001b[0m \u001b[1;32mimport\u001b[0m \u001b[0mnumpy\u001b[0m \u001b[1;32mas\u001b[0m \u001b[0mnp\u001b[0m\u001b[1;33m\u001b[0m\u001b[1;33m\u001b[0m\u001b[0m\n",
      "\u001b[1;31mModuleNotFoundError\u001b[0m: No module named 'krakenex'"
     ]
    }
   ],
   "source": [
    "import krakenex\n",
    "from pykrakenapi import krakenAPI\n",
    "import yfinance as yf\n",
    "import pandas as pd\n",
    "import numpy as np\n",
    "from datetime import datetime, date, timedelta, time\n",
    "import decimal\n",
    "import json"
   ]
  },
  {
   "cell_type": "code",
   "execution_count": 21,
   "id": "19fbe541",
   "metadata": {},
   "outputs": [],
   "source": [
    "import decimal\n",
    "import time"
   ]
  },
  {
   "cell_type": "code",
   "execution_count": 22,
   "id": "624a1e23",
   "metadata": {},
   "outputs": [],
   "source": [
    "def now():\n",
    "    return decimal.Decimal(time.time())"
   ]
  },
  {
   "cell_type": "code",
   "execution_count": 25,
   "id": "5e8de488",
   "metadata": {},
   "outputs": [],
   "source": [
    "def get_balance():\n",
    "    with open('balance.json', 'r') as f:\n",
    "        try:\n",
    "            return json.load(f)\n",
    "        except:\n",
    "            return {'ZUSD' : '1000.0', 'EUR.HOLD': '0.0000'}"
   ]
  },
  {
   "cell_type": "code",
   "execution_count": null,
   "id": "3d036453",
   "metadata": {},
   "outputs": [],
   "source": [
    "def update_balance(amount, name, price, sold):\n",
    "    balance = get_balance()\n",
    "    if sold:\n",
    "        "
   ]
  },
  {
   "cell_type": "code",
   "execution_count": 8,
   "id": "d7e92180",
   "metadata": {},
   "outputs": [
    {
     "name": "stdout",
     "output_type": "stream",
     "text": [
      "[*********************100%***********************]  1 of 1 completed\n"
     ]
    },
    {
     "data": {
      "text/html": [
       "<div>\n",
       "<style scoped>\n",
       "    .dataframe tbody tr th:only-of-type {\n",
       "        vertical-align: middle;\n",
       "    }\n",
       "\n",
       "    .dataframe tbody tr th {\n",
       "        vertical-align: top;\n",
       "    }\n",
       "\n",
       "    .dataframe thead th {\n",
       "        text-align: right;\n",
       "    }\n",
       "</style>\n",
       "<table border=\"1\" class=\"dataframe\">\n",
       "  <thead>\n",
       "    <tr style=\"text-align: right;\">\n",
       "      <th></th>\n",
       "      <th>Open</th>\n",
       "      <th>High</th>\n",
       "      <th>Low</th>\n",
       "      <th>Close</th>\n",
       "      <th>Adj Close</th>\n",
       "      <th>Volume</th>\n",
       "    </tr>\n",
       "    <tr>\n",
       "      <th>Datetime</th>\n",
       "      <th></th>\n",
       "      <th></th>\n",
       "      <th></th>\n",
       "      <th></th>\n",
       "      <th></th>\n",
       "      <th></th>\n",
       "    </tr>\n",
       "  </thead>\n",
       "  <tbody>\n",
       "    <tr>\n",
       "      <th>2021-05-03 09:15:00+05:30</th>\n",
       "      <td>348.500000</td>\n",
       "      <td>348.500000</td>\n",
       "      <td>341.450012</td>\n",
       "      <td>344.250000</td>\n",
       "      <td>344.250000</td>\n",
       "      <td>0</td>\n",
       "    </tr>\n",
       "    <tr>\n",
       "      <th>2021-05-03 09:20:00+05:30</th>\n",
       "      <td>344.250000</td>\n",
       "      <td>346.149994</td>\n",
       "      <td>342.549988</td>\n",
       "      <td>345.799988</td>\n",
       "      <td>345.799988</td>\n",
       "      <td>2745094</td>\n",
       "    </tr>\n",
       "    <tr>\n",
       "      <th>2021-05-03 09:25:00+05:30</th>\n",
       "      <td>345.799988</td>\n",
       "      <td>346.700012</td>\n",
       "      <td>344.100006</td>\n",
       "      <td>345.950012</td>\n",
       "      <td>345.950012</td>\n",
       "      <td>1347136</td>\n",
       "    </tr>\n",
       "    <tr>\n",
       "      <th>2021-05-03 09:30:00+05:30</th>\n",
       "      <td>345.899994</td>\n",
       "      <td>346.299988</td>\n",
       "      <td>344.500000</td>\n",
       "      <td>344.850006</td>\n",
       "      <td>344.850006</td>\n",
       "      <td>815824</td>\n",
       "    </tr>\n",
       "    <tr>\n",
       "      <th>2021-05-03 09:35:00+05:30</th>\n",
       "      <td>344.750000</td>\n",
       "      <td>346.049988</td>\n",
       "      <td>344.350006</td>\n",
       "      <td>345.950012</td>\n",
       "      <td>345.950012</td>\n",
       "      <td>940895</td>\n",
       "    </tr>\n",
       "    <tr>\n",
       "      <th>...</th>\n",
       "      <td>...</td>\n",
       "      <td>...</td>\n",
       "      <td>...</td>\n",
       "      <td>...</td>\n",
       "      <td>...</td>\n",
       "      <td>...</td>\n",
       "    </tr>\n",
       "    <tr>\n",
       "      <th>2021-06-10 15:05:00+05:30</th>\n",
       "      <td>432.000000</td>\n",
       "      <td>432.649994</td>\n",
       "      <td>431.950012</td>\n",
       "      <td>432.399994</td>\n",
       "      <td>432.399994</td>\n",
       "      <td>653297</td>\n",
       "    </tr>\n",
       "    <tr>\n",
       "      <th>2021-06-10 15:10:00+05:30</th>\n",
       "      <td>432.450012</td>\n",
       "      <td>432.600006</td>\n",
       "      <td>431.899994</td>\n",
       "      <td>432.000000</td>\n",
       "      <td>432.000000</td>\n",
       "      <td>825676</td>\n",
       "    </tr>\n",
       "    <tr>\n",
       "      <th>2021-06-10 15:15:00+05:30</th>\n",
       "      <td>432.200012</td>\n",
       "      <td>432.600006</td>\n",
       "      <td>431.850006</td>\n",
       "      <td>432.450012</td>\n",
       "      <td>432.450012</td>\n",
       "      <td>1065407</td>\n",
       "    </tr>\n",
       "    <tr>\n",
       "      <th>2021-06-10 15:20:00+05:30</th>\n",
       "      <td>432.399994</td>\n",
       "      <td>433.000000</td>\n",
       "      <td>431.899994</td>\n",
       "      <td>432.149994</td>\n",
       "      <td>432.149994</td>\n",
       "      <td>1255945</td>\n",
       "    </tr>\n",
       "    <tr>\n",
       "      <th>2021-06-10 15:25:00+05:30</th>\n",
       "      <td>432.200012</td>\n",
       "      <td>432.450012</td>\n",
       "      <td>432.000000</td>\n",
       "      <td>432.149994</td>\n",
       "      <td>432.149994</td>\n",
       "      <td>491089</td>\n",
       "    </tr>\n",
       "  </tbody>\n",
       "</table>\n",
       "<p>2099 rows × 6 columns</p>\n",
       "</div>"
      ],
      "text/plain": [
       "                                 Open        High         Low       Close  \\\n",
       "Datetime                                                                    \n",
       "2021-05-03 09:15:00+05:30  348.500000  348.500000  341.450012  344.250000   \n",
       "2021-05-03 09:20:00+05:30  344.250000  346.149994  342.549988  345.799988   \n",
       "2021-05-03 09:25:00+05:30  345.799988  346.700012  344.100006  345.950012   \n",
       "2021-05-03 09:30:00+05:30  345.899994  346.299988  344.500000  344.850006   \n",
       "2021-05-03 09:35:00+05:30  344.750000  346.049988  344.350006  345.950012   \n",
       "...                               ...         ...         ...         ...   \n",
       "2021-06-10 15:05:00+05:30  432.000000  432.649994  431.950012  432.399994   \n",
       "2021-06-10 15:10:00+05:30  432.450012  432.600006  431.899994  432.000000   \n",
       "2021-06-10 15:15:00+05:30  432.200012  432.600006  431.850006  432.450012   \n",
       "2021-06-10 15:20:00+05:30  432.399994  433.000000  431.899994  432.149994   \n",
       "2021-06-10 15:25:00+05:30  432.200012  432.450012  432.000000  432.149994   \n",
       "\n",
       "                            Adj Close   Volume  \n",
       "Datetime                                        \n",
       "2021-05-03 09:15:00+05:30  344.250000        0  \n",
       "2021-05-03 09:20:00+05:30  345.799988  2745094  \n",
       "2021-05-03 09:25:00+05:30  345.950012  1347136  \n",
       "2021-05-03 09:30:00+05:30  344.850006   815824  \n",
       "2021-05-03 09:35:00+05:30  345.950012   940895  \n",
       "...                               ...      ...  \n",
       "2021-06-10 15:05:00+05:30  432.399994   653297  \n",
       "2021-06-10 15:10:00+05:30  432.000000   825676  \n",
       "2021-06-10 15:15:00+05:30  432.450012  1065407  \n",
       "2021-06-10 15:20:00+05:30  432.149994  1255945  \n",
       "2021-06-10 15:25:00+05:30  432.149994   491089  \n",
       "\n",
       "[2099 rows x 6 columns]"
      ]
     },
     "execution_count": 8,
     "metadata": {},
     "output_type": "execute_result"
    }
   ],
   "source": [
    "df = yf.download('SBIN.NS', start= '2021-05-01' ,end = '2021-06-11', interval = '5m')\n",
    "df"
   ]
  },
  {
   "cell_type": "code",
   "execution_count": 10,
   "id": "a604e186",
   "metadata": {},
   "outputs": [
    {
     "data": {
      "text/plain": [
       "datetime.date(2021, 6, 13)"
      ]
     },
     "execution_count": 10,
     "metadata": {},
     "output_type": "execute_result"
    }
   ],
   "source": [
    "now = date.today()\n"
   ]
  }
 ],
 "metadata": {
  "kernelspec": {
   "display_name": "Python 3",
   "language": "python",
   "name": "python3"
  },
  "language_info": {
   "codemirror_mode": {
    "name": "ipython",
    "version": 3
   },
   "file_extension": ".py",
   "mimetype": "text/x-python",
   "name": "python",
   "nbconvert_exporter": "python",
   "pygments_lexer": "ipython3",
   "version": "3.8.8"
  }
 },
 "nbformat": 4,
 "nbformat_minor": 5
}
