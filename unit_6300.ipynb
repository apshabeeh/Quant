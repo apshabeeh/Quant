{
 "cells": [
  {
   "cell_type": "markdown",
   "metadata": {
    "colab_type": "text",
    "id": "FC-9Nk69hjot"
   },
   "source": [
    "# Notebook Instructions\n",
    "<i>You can run the notebook document sequentially (one cell at a time) by pressing <b> shift + enter</b>. While a cell is running, a [*] will display on the left. When it has been run, a number will display indicating the order in which it was run in the notebook [8].</i>\n",
    "\n",
    "<i>Enter edit mode by pressing <b>`Enter`</b> or using the mouse to click on a cell's editor area. Edit mode is indicated by a green cell border and a prompt showing in the editor area.</i> <BR>\n",
    "    \n",
    "This course is based on specific versions of python packages. You can find the details of the same in <a href='https://quantra.quantinsti.com/quantra-notebook' target=\"_blank\" >this manual</a>. The manual also explains how to use these codes in other versions of python packages. <BR>"
   ]
  },
  {
   "cell_type": "markdown",
   "metadata": {
    "colab_type": "text",
    "id": "8rrNJ_vJVIbt"
   },
   "source": [
    "# Turn of the Month Effect\n",
    "\n",
    "## Strategy overview\n",
    "\n",
    "The turn of the month is a well-known effect on stock indexes, with a simple idea that equity prices usually increase during the last four days and the first three days of each month. Research conducted over the years identified such a pattern for multiple periods, both in the Dow Jones Industrial Average and the S&P500 index. In this strategy, we buy the SPY ETF on close at the end of the month and sell it on close of the first day in the following month.\n",
    "\n",
    "Also, there is an option to lower maximal drawdown. The solution is to add the trend factor in the strategy. One of the simplest ways to do it is to trade only if the price of SPY is higher than it's 200-day average.\n",
    "\n",
    "## Notebook navigation\n",
    "\n",
    "1. Read SPY data\n",
    "2. Generate trading signals\n",
    "3. Calculate strategy returns\n",
    "4. Calculate drawdown\n",
    "5. Add trend factor"
   ]
  },
  {
   "cell_type": "markdown",
   "metadata": {
    "colab_type": "text",
    "id": "b4SfUwVhVIb0"
   },
   "source": [
    "## Read SPY data\n",
    "\n",
    "To read the CSV file, we use \"pandas.read_csv()\".\n",
    "\n",
    "Syntax: \n",
    "\n",
    "<b>pd.read_csv(filename)</b>\n",
    "\n",
    "filename: Name of the file in the string format\n",
    "\n",
    "This data is available in the downloadable unit of this course in the last section. You can also download SPY adjusted close data from finance.yahoo.com."
   ]
  },
  {
   "cell_type": "code",
   "execution_count": 1,
   "metadata": {
    "colab": {},
    "colab_type": "code",
    "id": "mmlsnLneVIb2",
    "outputId": "46892785-91d9-4514-d610-d57839425cb6"
   },
   "outputs": [
    {
     "data": {
      "text/html": [
       "<div>\n",
       "<style scoped>\n",
       "    .dataframe tbody tr th:only-of-type {\n",
       "        vertical-align: middle;\n",
       "    }\n",
       "\n",
       "    .dataframe tbody tr th {\n",
       "        vertical-align: top;\n",
       "    }\n",
       "\n",
       "    .dataframe thead th {\n",
       "        text-align: right;\n",
       "    }\n",
       "</style>\n",
       "<table border=\"1\" class=\"dataframe\">\n",
       "  <thead>\n",
       "    <tr style=\"text-align: right;\">\n",
       "      <th></th>\n",
       "      <th>Date</th>\n",
       "      <th>Open</th>\n",
       "      <th>High</th>\n",
       "      <th>Low</th>\n",
       "      <th>Close</th>\n",
       "      <th>Adjusted Close</th>\n",
       "      <th>Volume</th>\n",
       "      <th>daily_changes</th>\n",
       "    </tr>\n",
       "  </thead>\n",
       "  <tbody>\n",
       "    <tr>\n",
       "      <td>6806</td>\n",
       "      <td>2020-02-10</td>\n",
       "      <td>331.230011</td>\n",
       "      <td>334.750000</td>\n",
       "      <td>331.190002</td>\n",
       "      <td>334.679993</td>\n",
       "      <td>334.679993</td>\n",
       "      <td>42070000</td>\n",
       "      <td>0.007465</td>\n",
       "    </tr>\n",
       "    <tr>\n",
       "      <td>6807</td>\n",
       "      <td>2020-02-11</td>\n",
       "      <td>336.160004</td>\n",
       "      <td>337.019989</td>\n",
       "      <td>334.679993</td>\n",
       "      <td>335.260010</td>\n",
       "      <td>335.260010</td>\n",
       "      <td>54864500</td>\n",
       "      <td>0.001733</td>\n",
       "    </tr>\n",
       "    <tr>\n",
       "      <td>6808</td>\n",
       "      <td>2020-02-12</td>\n",
       "      <td>336.829987</td>\n",
       "      <td>337.649994</td>\n",
       "      <td>336.429993</td>\n",
       "      <td>337.420013</td>\n",
       "      <td>337.420013</td>\n",
       "      <td>43992700</td>\n",
       "      <td>0.006443</td>\n",
       "    </tr>\n",
       "    <tr>\n",
       "      <td>6809</td>\n",
       "      <td>2020-02-13</td>\n",
       "      <td>335.859985</td>\n",
       "      <td>338.119995</td>\n",
       "      <td>335.559998</td>\n",
       "      <td>337.059998</td>\n",
       "      <td>337.059998</td>\n",
       "      <td>54501900</td>\n",
       "      <td>-0.001067</td>\n",
       "    </tr>\n",
       "    <tr>\n",
       "      <td>6810</td>\n",
       "      <td>2020-02-14</td>\n",
       "      <td>337.510010</td>\n",
       "      <td>337.730011</td>\n",
       "      <td>336.200012</td>\n",
       "      <td>337.600006</td>\n",
       "      <td>337.600006</td>\n",
       "      <td>64524200</td>\n",
       "      <td>0.001602</td>\n",
       "    </tr>\n",
       "  </tbody>\n",
       "</table>\n",
       "</div>"
      ],
      "text/plain": [
       "           Date        Open        High         Low       Close  \\\n",
       "6806 2020-02-10  331.230011  334.750000  331.190002  334.679993   \n",
       "6807 2020-02-11  336.160004  337.019989  334.679993  335.260010   \n",
       "6808 2020-02-12  336.829987  337.649994  336.429993  337.420013   \n",
       "6809 2020-02-13  335.859985  338.119995  335.559998  337.059998   \n",
       "6810 2020-02-14  337.510010  337.730011  336.200012  337.600006   \n",
       "\n",
       "      Adjusted Close    Volume  daily_changes  \n",
       "6806      334.679993  42070000       0.007465  \n",
       "6807      335.260010  54864500       0.001733  \n",
       "6808      337.420013  43992700       0.006443  \n",
       "6809      337.059998  54501900      -0.001067  \n",
       "6810      337.600006  64524200       0.001602  "
      ]
     },
     "execution_count": 1,
     "metadata": {},
     "output_type": "execute_result"
    }
   ],
   "source": [
    "# Import pandas\n",
    "import pandas as pd\n",
    "\n",
    "# Read SPY prices\n",
    "spy_prices = pd.read_csv('../data/spy_prices.csv', delimiter=';')\n",
    "\n",
    "# Convert Date column to date-time format\n",
    "spy_prices.Date = pd.to_datetime(spy_prices.Date)\n",
    "\n",
    "# Calculate daily changes of the adjusted close price\n",
    "spy_prices['daily_changes'] = spy_prices['Adjusted Close'].pct_change()\n",
    "\n",
    "spy_prices.tail()"
   ]
  },
  {
   "cell_type": "markdown",
   "metadata": {
    "colab_type": "text",
    "id": "X3W5OsonVIb_"
   },
   "source": [
    "## Generate trading signals\n",
    "\n",
    "\n",
    "### Turn of the month signal\n",
    "\n",
    "To \"backtest\" this strategy, we need to generate trading signals.\n",
    "\n",
    "We place a value of 1 in place of the first day of every month. This is done by comparing the month of the current date with the month of the previous date.\n",
    "\n",
    "We use `where()` function from NumPy to do this.\n",
    "\n",
    "Syntax:\n",
    "\n",
    "<b>numpy.where(condition,x,y)</b> \n",
    "\n",
    "Parameters \n",
    "\n",
    "Condition: Condition to check\n",
    "\n",
    "x: Value if the condition is satisfied \n",
    "\n",
    "y: Value If the condition is not satisfied"
   ]
  },
  {
   "cell_type": "code",
   "execution_count": 2,
   "metadata": {
    "colab": {},
    "colab_type": "code",
    "id": "yZj0BS94hjo-",
    "outputId": "091a1b11-c112-4927-b9de-311c8dbf62b3",
    "scrolled": true
   },
   "outputs": [
    {
     "data": {
      "text/html": [
       "<div>\n",
       "<style scoped>\n",
       "    .dataframe tbody tr th:only-of-type {\n",
       "        vertical-align: middle;\n",
       "    }\n",
       "\n",
       "    .dataframe tbody tr th {\n",
       "        vertical-align: top;\n",
       "    }\n",
       "\n",
       "    .dataframe thead th {\n",
       "        text-align: right;\n",
       "    }\n",
       "</style>\n",
       "<table border=\"1\" class=\"dataframe\">\n",
       "  <thead>\n",
       "    <tr style=\"text-align: right;\">\n",
       "      <th></th>\n",
       "      <th>Open</th>\n",
       "      <th>High</th>\n",
       "      <th>Low</th>\n",
       "      <th>Close</th>\n",
       "      <th>Adjusted Close</th>\n",
       "      <th>Volume</th>\n",
       "      <th>daily_changes</th>\n",
       "      <th>turn_of_month_signal</th>\n",
       "    </tr>\n",
       "    <tr>\n",
       "      <th>Date</th>\n",
       "      <th></th>\n",
       "      <th></th>\n",
       "      <th></th>\n",
       "      <th></th>\n",
       "      <th></th>\n",
       "      <th></th>\n",
       "      <th></th>\n",
       "      <th></th>\n",
       "    </tr>\n",
       "  </thead>\n",
       "  <tbody>\n",
       "    <tr>\n",
       "      <td>2020-02-10</td>\n",
       "      <td>331.230011</td>\n",
       "      <td>334.750000</td>\n",
       "      <td>331.190002</td>\n",
       "      <td>334.679993</td>\n",
       "      <td>334.679993</td>\n",
       "      <td>42070000</td>\n",
       "      <td>0.007465</td>\n",
       "      <td>0</td>\n",
       "    </tr>\n",
       "    <tr>\n",
       "      <td>2020-02-11</td>\n",
       "      <td>336.160004</td>\n",
       "      <td>337.019989</td>\n",
       "      <td>334.679993</td>\n",
       "      <td>335.260010</td>\n",
       "      <td>335.260010</td>\n",
       "      <td>54864500</td>\n",
       "      <td>0.001733</td>\n",
       "      <td>0</td>\n",
       "    </tr>\n",
       "    <tr>\n",
       "      <td>2020-02-12</td>\n",
       "      <td>336.829987</td>\n",
       "      <td>337.649994</td>\n",
       "      <td>336.429993</td>\n",
       "      <td>337.420013</td>\n",
       "      <td>337.420013</td>\n",
       "      <td>43992700</td>\n",
       "      <td>0.006443</td>\n",
       "      <td>0</td>\n",
       "    </tr>\n",
       "    <tr>\n",
       "      <td>2020-02-13</td>\n",
       "      <td>335.859985</td>\n",
       "      <td>338.119995</td>\n",
       "      <td>335.559998</td>\n",
       "      <td>337.059998</td>\n",
       "      <td>337.059998</td>\n",
       "      <td>54501900</td>\n",
       "      <td>-0.001067</td>\n",
       "      <td>0</td>\n",
       "    </tr>\n",
       "    <tr>\n",
       "      <td>2020-02-14</td>\n",
       "      <td>337.510010</td>\n",
       "      <td>337.730011</td>\n",
       "      <td>336.200012</td>\n",
       "      <td>337.600006</td>\n",
       "      <td>337.600006</td>\n",
       "      <td>64524200</td>\n",
       "      <td>0.001602</td>\n",
       "      <td>0</td>\n",
       "    </tr>\n",
       "  </tbody>\n",
       "</table>\n",
       "</div>"
      ],
      "text/plain": [
       "                  Open        High         Low       Close  Adjusted Close  \\\n",
       "Date                                                                         \n",
       "2020-02-10  331.230011  334.750000  331.190002  334.679993      334.679993   \n",
       "2020-02-11  336.160004  337.019989  334.679993  335.260010      335.260010   \n",
       "2020-02-12  336.829987  337.649994  336.429993  337.420013      337.420013   \n",
       "2020-02-13  335.859985  338.119995  335.559998  337.059998      337.059998   \n",
       "2020-02-14  337.510010  337.730011  336.200012  337.600006      337.600006   \n",
       "\n",
       "              Volume  daily_changes  turn_of_month_signal  \n",
       "Date                                                       \n",
       "2020-02-10  42070000       0.007465                     0  \n",
       "2020-02-11  54864500       0.001733                     0  \n",
       "2020-02-12  43992700       0.006443                     0  \n",
       "2020-02-13  54501900      -0.001067                     0  \n",
       "2020-02-14  64524200       0.001602                     0  "
      ]
     },
     "execution_count": 2,
     "metadata": {},
     "output_type": "execute_result"
    }
   ],
   "source": [
    "# Import numpy\n",
    "import numpy as np\n",
    "\n",
    "# Generate turn of the month signal\n",
    "spy_prices['turn_of_month_signal'] = np.where(spy_prices.Date.dt.month != spy_prices.Date.dt.month.shift(1), 1, 0)\n",
    "\n",
    "# Set Date column as index\n",
    "spy_prices.set_index('Date', inplace=True)\n",
    "spy_prices.tail()"
   ]
  },
  {
   "cell_type": "markdown",
   "metadata": {
    "colab_type": "text",
    "id": "Tvh1AKnghjpC"
   },
   "source": [
    "## Calculate strategy returns\n",
    "\n",
    "To calculate strategy returns, multiply daily_changes with turn_of_month_signal. Then, we use `cumprod()` function to calculate cumulative strategy returns."
   ]
  },
  {
   "cell_type": "code",
   "execution_count": 3,
   "metadata": {
    "colab": {},
    "colab_type": "code",
    "id": "YZuOZWsAhjpD",
    "outputId": "b35a3d61-a9c7-4398-9aca-5945977e94b9"
   },
   "outputs": [
    {
     "name": "stdout",
     "output_type": "stream",
     "text": [
      "The strategy returns is 112.70\n"
     ]
    }
   ],
   "source": [
    "# Calculate strategy returns\n",
    "spy_prices['strategy_returns'] = spy_prices['daily_changes'] * spy_prices['turn_of_month_signal']\n",
    "\n",
    "# Calculate cumulative strategy returns\n",
    "cumulative_strategy_returns = ((spy_prices['strategy_returns'] + 1).cumprod())\n",
    "\n",
    "# Calculate strategy returns\n",
    "total_strategy_returns = (cumulative_strategy_returns.iloc[-1]-1)*100\n",
    "print(\"The strategy returns is %.2f\" % total_strategy_returns)"
   ]
  },
  {
   "cell_type": "code",
   "execution_count": 4,
   "metadata": {
    "colab": {},
    "colab_type": "code",
    "id": "6N1XrSEnhjpJ",
    "outputId": "c1db5e41-f404-483e-a91d-64bf408cde3c"
   },
   "outputs": [
    {
     "name": "stdout",
     "output_type": "stream",
     "text": [
      "The CAGR from strategy is 2.83\n"
     ]
    }
   ],
   "source": [
    "# Total number of trading days\n",
    "days = len(cumulative_strategy_returns)\n",
    "\n",
    "# Calculate compounded annual growth rate\n",
    "cagr = (cumulative_strategy_returns.iloc[-1]**(252/days)-1)*100\n",
    "print('The CAGR from strategy is %.2f' % cagr)"
   ]
  },
  {
   "cell_type": "markdown",
   "metadata": {
    "colab_type": "text",
    "id": "9PSz-rzFhjpO"
   },
   "source": [
    "### Plotting \n",
    "\n",
    "To plot strategy returns, we need to `import matplotlib.pyplot` library and use `plot()` function. Next, we add labels to the chart."
   ]
  },
  {
   "cell_type": "code",
   "execution_count": 5,
   "metadata": {
    "colab": {},
    "colab_type": "code",
    "id": "8ZMCa-wihjpQ",
    "outputId": "3a817cb7-5ea3-480a-b33a-2a369836e3fb"
   },
   "outputs": [
    {
     "data": {
      "image/png": "[encoded data removed]",
      "text/plain": [
       "<Figure size 720x504 with 1 Axes>"
      ]
     },
     "metadata": {
      "needs_background": "light"
     },
     "output_type": "display_data"
    }
   ],
   "source": [
    "# Import matplotlib\n",
    "import matplotlib.pyplot as plt\n",
    "%matplotlib inline\n",
    "\n",
    "\n",
    "def plot_strategy_returns(cumulative_strategy_returns):\n",
    "\n",
    "    # Plot cumulative strategy returns\n",
    "    plt.figure(figsize=(10, 7))\n",
    "    cumulative_strategy_returns.plot()\n",
    "    plt.grid()\n",
    "\n",
    "    # Define label for the title of the figure\n",
    "    plt.title('Strategy Returns', fontsize=16)\n",
    "\n",
    "    # Define labels for x-axis and y-axis\n",
    "    plt.xlabel('Date', fontsize=14)\n",
    "    plt.ylabel('Cumulative Strategy Returns', fontsize=14)\n",
    "\n",
    "    # Define the tick size for x-axis and y-axis\n",
    "    plt.xticks(fontsize=12)\n",
    "    plt.yticks(fontsize=12)\n",
    "\n",
    "    plt.show()\n",
    "\n",
    "\n",
    "plot_strategy_returns(cumulative_strategy_returns)"
   ]
  },
  {
   "cell_type": "markdown",
   "metadata": {
    "colab_type": "text",
    "id": "Tblq1GYBhjpY"
   },
   "source": [
    "## Calculate drawdown\n",
    "\n",
    "Drawdown can be defined as the percentage loss from the highest cumulative historical point.\n",
    "\n",
    "The formula to calculate drawdown:\n",
    "\n",
    "<b>Drawdown = (cumulative returns/ running maximum) - 1</b>\n",
    "\n",
    "To calculate the running maximum, we can use `maximum()` and `accumulate()` functions"
   ]
  },
  {
   "cell_type": "code",
   "execution_count": 6,
   "metadata": {
    "colab": {},
    "colab_type": "code",
    "id": "br-SR5qAhjpZ",
    "outputId": "06e9287f-eaba-4ec2-913f-1adf4cd8d608"
   },
   "outputs": [
    {
     "name": "stdout",
     "output_type": "stream",
     "text": [
      "The maximum drawdown is -11.97\n"
     ]
    }
   ],
   "source": [
    "def calc_drawdown(cum_rets):\n",
    "\n",
    "    # Calculate the running maximum\n",
    "    running_max = np.maximum.accumulate(cum_rets.dropna())\n",
    "\n",
    "    # Ensure the value never drops below 1\n",
    "    running_max[running_max < 1] = 1\n",
    "\n",
    "    # Calculate the percentage drawdown\n",
    "    drawdown = (cum_rets)/running_max - 1\n",
    "    return drawdown\n",
    "\n",
    "\n",
    "drawdown = calc_drawdown(cumulative_strategy_returns)\n",
    "max_dd = drawdown.min()*100\n",
    "\n",
    "print(\"The maximum drawdown is %.2f\" % max_dd)"
   ]
  },
  {
   "cell_type": "code",
   "execution_count": 7,
   "metadata": {
    "colab": {},
    "colab_type": "code",
    "id": "qRJ0UU9Rhjpd",
    "outputId": "daea8926-b962-4567-aba3-31371d332ab6"
   },
   "outputs": [
    {
     "data": {
      "image/png": "[encoded data removed]",
      "text/plain": [
       "<Figure size 720x504 with 1 Axes>"
      ]
     },
     "metadata": {
      "needs_background": "light"
     },
     "output_type": "display_data"
    }
   ],
   "source": [
    "def plot_drawdown(drawdown):\n",
    "\n",
    "    # Plot drawdown\n",
    "    plt.figure(figsize=(10, 7))\n",
    "    drawdown.plot(color='r')\n",
    "    plt.ylabel('Returns')\n",
    "    plt.fill_between(drawdown.index, drawdown.values, color='red')\n",
    "    plt.grid(which=\"major\", color='k', linestyle='-.', linewidth=0.2)\n",
    "    plt.show()\n",
    "\n",
    "\n",
    "plot_drawdown(drawdown)"
   ]
  },
  {
   "cell_type": "markdown",
   "metadata": {
    "colab_type": "text",
    "id": "ClR-R6W5hjph"
   },
   "source": [
    "------------------------------------------------------------------------------------\n",
    "## Add trend factor\n",
    "### Moving average filter\n",
    "\n",
    "We use a simple moving average to filter our trading signals. Only if the price of SPY is above 200 period SMA, we will hold our position.\n",
    "\n",
    "For this, we use the `rolling()` function of DataFrame to compute the moving average of the price series. \n",
    "\n",
    "Syntax:<br>\n",
    "<b>DataFrame.rolling(window).mean()</b>\n",
    "\n",
    "Parameters:\n",
    "\n",
    "window: number of observations used to calculate the statistics.<br>\n",
    "\n",
    "Then, we calculate our SMA signal. We use `where()` function of Numpy to compare shifted SPY prices and SMA values. We use shift because we need to know if the price was above SMA at the close of the previous day. If the price is above SMA value, place value of 1 to our SMA signal."
   ]
  },
  {
   "cell_type": "code",
   "execution_count": 8,
   "metadata": {
    "colab": {},
    "colab_type": "code",
    "id": "ygAI2Z68hjph",
    "outputId": "e2c22ff6-4a04-4042-d317-c3dfa21f5c6d"
   },
   "outputs": [
    {
     "data": {
      "text/html": [
       "<div>\n",
       "<style scoped>\n",
       "    .dataframe tbody tr th:only-of-type {\n",
       "        vertical-align: middle;\n",
       "    }\n",
       "\n",
       "    .dataframe tbody tr th {\n",
       "        vertical-align: top;\n",
       "    }\n",
       "\n",
       "    .dataframe thead th {\n",
       "        text-align: right;\n",
       "    }\n",
       "</style>\n",
       "<table border=\"1\" class=\"dataframe\">\n",
       "  <thead>\n",
       "    <tr style=\"text-align: right;\">\n",
       "      <th></th>\n",
       "      <th>Open</th>\n",
       "      <th>High</th>\n",
       "      <th>Low</th>\n",
       "      <th>Close</th>\n",
       "      <th>Adjusted Close</th>\n",
       "      <th>Volume</th>\n",
       "      <th>daily_changes</th>\n",
       "      <th>turn_of_month_signal</th>\n",
       "      <th>strategy_returns</th>\n",
       "      <th>sma_200</th>\n",
       "      <th>sma_signal</th>\n",
       "    </tr>\n",
       "    <tr>\n",
       "      <th>Date</th>\n",
       "      <th></th>\n",
       "      <th></th>\n",
       "      <th></th>\n",
       "      <th></th>\n",
       "      <th></th>\n",
       "      <th></th>\n",
       "      <th></th>\n",
       "      <th></th>\n",
       "      <th></th>\n",
       "      <th></th>\n",
       "      <th></th>\n",
       "    </tr>\n",
       "  </thead>\n",
       "  <tbody>\n",
       "    <tr>\n",
       "      <td>2020-02-10</td>\n",
       "      <td>331.230011</td>\n",
       "      <td>334.750000</td>\n",
       "      <td>331.190002</td>\n",
       "      <td>334.679993</td>\n",
       "      <td>334.679993</td>\n",
       "      <td>42070000</td>\n",
       "      <td>0.007465</td>\n",
       "      <td>0</td>\n",
       "      <td>0.0</td>\n",
       "      <td>299.885975</td>\n",
       "      <td>1</td>\n",
       "    </tr>\n",
       "    <tr>\n",
       "      <td>2020-02-11</td>\n",
       "      <td>336.160004</td>\n",
       "      <td>337.019989</td>\n",
       "      <td>334.679993</td>\n",
       "      <td>335.260010</td>\n",
       "      <td>335.260010</td>\n",
       "      <td>54864500</td>\n",
       "      <td>0.001733</td>\n",
       "      <td>0</td>\n",
       "      <td>0.0</td>\n",
       "      <td>300.116147</td>\n",
       "      <td>1</td>\n",
       "    </tr>\n",
       "    <tr>\n",
       "      <td>2020-02-12</td>\n",
       "      <td>336.829987</td>\n",
       "      <td>337.649994</td>\n",
       "      <td>336.429993</td>\n",
       "      <td>337.420013</td>\n",
       "      <td>337.420013</td>\n",
       "      <td>43992700</td>\n",
       "      <td>0.006443</td>\n",
       "      <td>0</td>\n",
       "      <td>0.0</td>\n",
       "      <td>300.354851</td>\n",
       "      <td>1</td>\n",
       "    </tr>\n",
       "    <tr>\n",
       "      <td>2020-02-13</td>\n",
       "      <td>335.859985</td>\n",
       "      <td>338.119995</td>\n",
       "      <td>335.559998</td>\n",
       "      <td>337.059998</td>\n",
       "      <td>337.059998</td>\n",
       "      <td>54501900</td>\n",
       "      <td>-0.001067</td>\n",
       "      <td>0</td>\n",
       "      <td>-0.0</td>\n",
       "      <td>300.591017</td>\n",
       "      <td>1</td>\n",
       "    </tr>\n",
       "    <tr>\n",
       "      <td>2020-02-14</td>\n",
       "      <td>337.510010</td>\n",
       "      <td>337.730011</td>\n",
       "      <td>336.200012</td>\n",
       "      <td>337.600006</td>\n",
       "      <td>337.600006</td>\n",
       "      <td>64524200</td>\n",
       "      <td>0.001602</td>\n",
       "      <td>0</td>\n",
       "      <td>0.0</td>\n",
       "      <td>300.840774</td>\n",
       "      <td>1</td>\n",
       "    </tr>\n",
       "  </tbody>\n",
       "</table>\n",
       "</div>"
      ],
      "text/plain": [
       "                  Open        High         Low       Close  Adjusted Close  \\\n",
       "Date                                                                         \n",
       "2020-02-10  331.230011  334.750000  331.190002  334.679993      334.679993   \n",
       "2020-02-11  336.160004  337.019989  334.679993  335.260010      335.260010   \n",
       "2020-02-12  336.829987  337.649994  336.429993  337.420013      337.420013   \n",
       "2020-02-13  335.859985  338.119995  335.559998  337.059998      337.059998   \n",
       "2020-02-14  337.510010  337.730011  336.200012  337.600006      337.600006   \n",
       "\n",
       "              Volume  daily_changes  turn_of_month_signal  strategy_returns  \\\n",
       "Date                                                                          \n",
       "2020-02-10  42070000       0.007465                     0               0.0   \n",
       "2020-02-11  54864500       0.001733                     0               0.0   \n",
       "2020-02-12  43992700       0.006443                     0               0.0   \n",
       "2020-02-13  54501900      -0.001067                     0              -0.0   \n",
       "2020-02-14  64524200       0.001602                     0               0.0   \n",
       "\n",
       "               sma_200  sma_signal  \n",
       "Date                                \n",
       "2020-02-10  299.885975           1  \n",
       "2020-02-11  300.116147           1  \n",
       "2020-02-12  300.354851           1  \n",
       "2020-02-13  300.591017           1  \n",
       "2020-02-14  300.840774           1  "
      ]
     },
     "execution_count": 8,
     "metadata": {},
     "output_type": "execute_result"
    }
   ],
   "source": [
    "# Import numpy\n",
    "import numpy as np\n",
    "\n",
    "# Calculate 200-day rolling mean of spy close prices\n",
    "spy_prices['sma_200'] = spy_prices['Adjusted Close'].rolling(window=200).mean()\n",
    "\n",
    "# Generate SMA signals\n",
    "spy_prices['sma_signal'] = np.where(\n",
    "    spy_prices['Adjusted Close'].shift(1) > spy_prices['sma_200'].shift(1), 1, 0)\n",
    "\n",
    "spy_prices.tail()"
   ]
  },
  {
   "cell_type": "code",
   "execution_count": 9,
   "metadata": {
    "colab": {},
    "colab_type": "code",
    "id": "DYEn5qHFhjpm",
    "outputId": "bc35c496-7b88-4951-d50c-d3d18ffd1e5a"
   },
   "outputs": [
    {
     "name": "stdout",
     "output_type": "stream",
     "text": [
      "The strategy returns is 117.96\n"
     ]
    }
   ],
   "source": [
    "# Calculate strategy returns with trend factor\n",
    "spy_prices['strategy_returns_trend_factor'] = spy_prices['daily_changes'] * spy_prices['turn_of_month_signal'] \\\n",
    "    * spy_prices['sma_signal']\n",
    "\n",
    "# Calculate cumulative strategy returns with trend factor\n",
    "cumulative_strategy_returns_trend_factor = (\n",
    "    (spy_prices['strategy_returns_trend_factor']+1).cumprod())\n",
    "\n",
    "# Calculate strategy returns with trend factor\n",
    "total_strategy_returns_trend_factor = (\n",
    "    cumulative_strategy_returns_trend_factor.iloc[-1]-1)*100\n",
    "\n",
    "print(\"The strategy returns is %.2f\" % total_strategy_returns_trend_factor)"
   ]
  },
  {
   "cell_type": "code",
   "execution_count": 10,
   "metadata": {
    "colab": {},
    "colab_type": "code",
    "id": "Plo-G20Zhjpw",
    "outputId": "be83f158-0509-4414-8d87-69405ee991b9"
   },
   "outputs": [
    {
     "name": "stdout",
     "output_type": "stream",
     "text": [
      "The CAGR from strategy is 2.92\n"
     ]
    }
   ],
   "source": [
    "# Total number of trading days\n",
    "days = len(cumulative_strategy_returns_trend_factor)\n",
    "\n",
    "# Calculate CAGR with trend factor\n",
    "cagr_trend_factor = (\n",
    "    cumulative_strategy_returns_trend_factor.iloc[-1]**(252/days)-1)*100\n",
    "\n",
    "print('The CAGR from strategy is %.2f' % cagr_trend_factor)"
   ]
  },
  {
   "cell_type": "code",
   "execution_count": 11,
   "metadata": {
    "colab": {},
    "colab_type": "code",
    "id": "GroRdtyihjp0",
    "outputId": "6a2e1bf3-7730-416b-e6c2-beff9556a98f"
   },
   "outputs": [
    {
     "data": {
      "image/png": "[encoded data removed]",
      "text/plain": [
       "<Figure size 720x504 with 1 Axes>"
      ]
     },
     "metadata": {
      "needs_background": "light"
     },
     "output_type": "display_data"
    }
   ],
   "source": [
    "plot_strategy_returns(cumulative_strategy_returns_trend_factor) "
   ]
  },
  {
   "cell_type": "code",
   "execution_count": 12,
   "metadata": {
    "colab": {},
    "colab_type": "code",
    "id": "rM2ar2Qshjp4",
    "outputId": "8589795b-cd9f-417e-e69f-1b72546d7e1f"
   },
   "outputs": [
    {
     "name": "stdout",
     "output_type": "stream",
     "text": [
      "The maximum drawdown is -5.04\n"
     ]
    }
   ],
   "source": [
    "# Calculate drawdown with trend factors\n",
    "drawdown = calc_drawdown(cumulative_strategy_returns_trend_factor)\n",
    "max_dd_trend_factor = drawdown.min()*100\n",
    "\n",
    "print(\"The maximum drawdown is %.2f\" % max_dd_trend_factor)"
   ]
  },
  {
   "cell_type": "code",
   "execution_count": 13,
   "metadata": {
    "colab": {},
    "colab_type": "code",
    "id": "TMd4QwBphjp7",
    "outputId": "58f01e42-3705-4109-f422-bdff9eac1b02"
   },
   "outputs": [
    {
     "data": {
      "image/png": "[encoded data removed]",
      "text/plain": [
       "<Figure size 720x504 with 1 Axes>"
      ]
     },
     "metadata": {
      "needs_background": "light"
     },
     "output_type": "display_data"
    }
   ],
   "source": [
    "plot_drawdown(drawdown)"
   ]
  },
  {
   "cell_type": "markdown",
   "metadata": {
    "colab_type": "text",
    "id": "IMqKlirShjp-"
   },
   "source": [
    "## Performance summary"
   ]
  },
  {
   "cell_type": "code",
   "execution_count": 14,
   "metadata": {
    "colab": {},
    "colab_type": "code",
    "id": "FoPP8pXThjp_",
    "outputId": "42cea3d1-33a9-4f87-c2e8-c0a619204cd0"
   },
   "outputs": [
    {
     "name": "stdout",
     "output_type": "stream",
     "text": [
      "| Stats Name            |   Strategy |   Strategy with Trend Factor |\n",
      "|-----------------------+------------+------------------------------|\n",
      "| Strategy Returns      | 112.7      |                   117.956    |\n",
      "| CAGR                  |   2.83171  |                     2.92463  |\n",
      "| Maximum Drawdown      | -11.9677   |                    -5.03764  |\n",
      "| CAGR/Maximum Drawdown |   0.236613 |                     0.580556 |\n"
     ]
    }
   ],
   "source": [
    "# Import tabulate\n",
    "from tabulate import tabulate\n",
    "\n",
    "stats = tabulate(\n",
    "        [\n",
    "            ['Strategy Returns', total_strategy_returns, total_strategy_returns_trend_factor],\n",
    "            ['CAGR', cagr, cagr_trend_factor],\n",
    "            ['Maximum Drawdown', max_dd, max_dd_trend_factor],\n",
    "            ['CAGR/Maximum Drawdown', cagr/abs(max_dd), cagr_trend_factor/abs(max_dd_trend_factor)],\n",
    "        ],\n",
    "        headers=['Stats Name','Strategy', 'Strategy with Trend Factor'], tablefmt='orgtbl')\n",
    "\n",
    "print(stats)"
   ]
  },
  {
   "cell_type": "markdown",
   "metadata": {
    "colab_type": "text",
    "id": "ndU4MkdHVIcl"
   },
   "source": [
    "## Conclusion\n",
    "\n",
    "The yearly performance of the strategy is 2.8%, and maximum drawdown is -11.96%. After applying the trend filter, both CAGR returns and maximum drawdown improves.\n",
    "\n",
    "In the next section, you will learn about the payday effect in equity markets. <br><br>"
   ]
  }
 ],
 "metadata": {
  "colab": {
   "name": "Turn of the month.ipynb",
   "provenance": []
  },
  "kernelspec": {
   "display_name": "Python 3",
   "language": "python",
   "name": "python3"
  },
  "language_info": {
   "codemirror_mode": {
    "name": "ipython",
    "version": 3
   },
   "file_extension": ".py",
   "mimetype": "text/x-python",
   "name": "python",
   "nbconvert_exporter": "python",
   "pygments_lexer": "ipython3",
   "version": "3.8.8"
  }
 },
 "nbformat": 4,
 "nbformat_minor": 4
}
